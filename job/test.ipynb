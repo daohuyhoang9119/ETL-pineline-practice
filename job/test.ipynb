{
 "cells": [
  {
   "cell_type": "code",
   "execution_count": 1,
   "metadata": {},
   "outputs": [],
   "source": [
    "## Install libraries\n",
    "import findspark\n",
    "findspark.init()\n",
    "import pyspark\n",
    "from pyspark.sql import SparkSession\n",
    "from pyspark.sql.functions import *"
   ]
  },
  {
   "cell_type": "code",
   "execution_count": 2,
   "metadata": {},
   "outputs": [],
   "source": [
    "spark = SparkSession.builder.config(\"spark.driver.memory\", \"8g\").getOrCreate()\n",
    "pathData = \"D:\\\\Đại Học CNTT\\\\Data engineer\\\\DE-COURSE\\\\Homework\\\\ETL Pineline\\\\data\\\\20220401.json\""
   ]
  },
  {
   "cell_type": "code",
   "execution_count": 3,
   "metadata": {},
   "outputs": [
    {
     "name": "stdout",
     "output_type": "stream",
     "text": [
      "+--------------------+-------+------+--------------------------------------+-----+\n",
      "|_id                 |_index |_score|_source                               |_type|\n",
      "+--------------------+-------+------+--------------------------------------+-----+\n",
      "|AX_momhia1FFivsGrn9o|history|0     |{KPLUS, HNH579912, 0C96E62FC55C, 254} |kplus|\n",
      "|AX_momhca1FFivsGrnvg|history|0     |{KPLUS, HUFD40665, CCEDDC333614, 1457}|kplus|\n",
      "|AX_momhaa1FFivsGrnny|history|0     |{KPLUS, HNH572635, B068E6A1C5F6, 2318}|kplus|\n",
      "|AX_momhca1FFivsGrnvv|history|0     |{KPLUS, HND141717, 08674EE8D2C2, 1452}|kplus|\n",
      "|AX_momhia1FFivsGrn98|history|0     |{KPLUS, HNH743103, 402343C25D7D, 251} |kplus|\n",
      "|AX_momg9a1FFivsGrnkS|history|0     |{KPLUS, HNH893773, B84DEE76D3B8, 924} |kplus|\n",
      "|AX_momhca1FFivsGrnwA|history|0     |{KPLUS, HND083642, B84DEE849A0F, 1444}|kplus|\n",
      "|AX_momhfa1FFivsGrn2u|history|0     |{KPLUS, DNFD74404, 90324BB44C39, 691} |kplus|\n",
      "|AX_momhca1FFivsGrnwP|history|0     |{KPLUS, DTFD21200, B84DEED27709, 1436}|kplus|\n",
      "|AX_momhca1FFivsGrnwU|history|0     |{KPLUS, LDFD05747, 0C96E6C95E53, 1434}|kplus|\n",
      "+--------------------+-------+------+--------------------------------------+-----+\n",
      "only showing top 10 rows\n",
      "\n"
     ]
    }
   ],
   "source": [
    "df = spark.read.json(pathData)\n",
    "df.show(10,truncate=False)"
   ]
  },
  {
   "cell_type": "code",
   "execution_count": 4,
   "metadata": {},
   "outputs": [
    {
     "name": "stdout",
     "output_type": "stream",
     "text": [
      "root\n",
      " |-- _id: string (nullable = true)\n",
      " |-- _index: string (nullable = true)\n",
      " |-- _score: long (nullable = true)\n",
      " |-- _source: struct (nullable = true)\n",
      " |    |-- AppName: string (nullable = true)\n",
      " |    |-- Contract: string (nullable = true)\n",
      " |    |-- Mac: string (nullable = true)\n",
      " |    |-- TotalDuration: long (nullable = true)\n",
      " |-- _type: string (nullable = true)\n",
      "\n"
     ]
    }
   ],
   "source": [
    "df.printSchema()"
   ]
  },
  {
   "cell_type": "code",
   "execution_count": 5,
   "metadata": {},
   "outputs": [],
   "source": [
    "df = df.select('_source.AppName', '_source.Contract', '_source.Mac', '_source.TotalDuration')"
   ]
  },
  {
   "cell_type": "code",
   "execution_count": 6,
   "metadata": {},
   "outputs": [
    {
     "name": "stdout",
     "output_type": "stream",
     "text": [
      "+-------+---------+------------+-------------+\n",
      "|AppName| Contract|         Mac|TotalDuration|\n",
      "+-------+---------+------------+-------------+\n",
      "|  KPLUS|HNH579912|0C96E62FC55C|          254|\n",
      "|  KPLUS|HUFD40665|CCEDDC333614|         1457|\n",
      "|  KPLUS|HNH572635|B068E6A1C5F6|         2318|\n",
      "|  KPLUS|HND141717|08674EE8D2C2|         1452|\n",
      "|  KPLUS|HNH743103|402343C25D7D|          251|\n",
      "+-------+---------+------------+-------------+\n",
      "only showing top 5 rows\n",
      "\n"
     ]
    }
   ],
   "source": [
    "df.show(5)"
   ]
  },
  {
   "cell_type": "code",
   "execution_count": 7,
   "metadata": {},
   "outputs": [],
   "source": [
    "df = df.withColumn('Type',\n",
    "        when((col('AppName') == 'CHANNEL') | (col('AppName') =='DSHD')| (col('AppName') =='KPLUS')| (col('AppName') =='KPlus'), 'Truyền Hình')\n",
    "        .when((col('AppName') == 'VOD') | (col('AppName') =='FIMS_RES')| (col('AppName') =='BHD_RES')| \n",
    "                (col('AppName') =='VOD_RES')| (col('AppName') =='FIMS')| (col('AppName') =='BHD')| (col('AppName') =='DANET'), 'Phim Truyện')\n",
    "        .when((col('AppName') == 'RELAX'), 'Giải Trí')\n",
    "        .when((col('AppName') == 'CHILD'), 'Thiếu Nhi')\n",
    "        .when((col('AppName') == 'SPORT'), 'Thể Thao')\n",
    "        .otherwise('Error'))\n"
   ]
  },
  {
   "cell_type": "code",
   "execution_count": 9,
   "metadata": {},
   "outputs": [
    {
     "name": "stdout",
     "output_type": "stream",
     "text": [
      "+-------+---------+------------+-------------+-----------+----------+\n",
      "|AppName| Contract|         Mac|TotalDuration|       Type|      Date|\n",
      "+-------+---------+------------+-------------+-----------+----------+\n",
      "|  KPLUS|HNH579912|0C96E62FC55C|          254|Truyền Hình|2022-04-01|\n",
      "|  KPLUS|HUFD40665|CCEDDC333614|         1457|Truyền Hình|2022-04-01|\n",
      "|  KPLUS|HNH572635|B068E6A1C5F6|         2318|Truyền Hình|2022-04-01|\n",
      "|  KPLUS|HND141717|08674EE8D2C2|         1452|Truyền Hình|2022-04-01|\n",
      "|  KPLUS|HNH743103|402343C25D7D|          251|Truyền Hình|2022-04-01|\n",
      "+-------+---------+------------+-------------+-----------+----------+\n",
      "only showing top 5 rows\n",
      "\n"
     ]
    }
   ],
   "source": [
    "data = df.withColumn(\"Date\", lit(\"2022-04-01\"))\n",
    "data.show(5)"
   ]
  },
  {
   "cell_type": "code",
   "execution_count": 13,
   "metadata": {},
   "outputs": [
    {
     "name": "stdout",
     "output_type": "stream",
     "text": [
      "+-------+-------+\n",
      "|AppName|  count|\n",
      "+-------+-------+\n",
      "|  KPLUS|  20158|\n",
      "|  RELAX|   6445|\n",
      "|  CHILD|  33723|\n",
      "|CHANNEL|1502855|\n",
      "|    VOD|  88033|\n",
      "|   FIMS|   1007|\n",
      "|  SPORT|   2298|\n",
      "+-------+-------+\n",
      "\n"
     ]
    }
   ],
   "source": [
    "data.groupBy(col(\"AppName\")).count().show()"
   ]
  },
  {
   "cell_type": "code",
   "execution_count": 10,
   "metadata": {},
   "outputs": [
    {
     "name": "stdout",
     "output_type": "stream",
     "text": [
      "+----------+---------+-----------+-------------+\n",
      "|      Date| Contract|       Type|TotalDuration|\n",
      "+----------+---------+-----------+-------------+\n",
      "|2022-04-01|NBFD22476|Truyền Hình|        18948|\n",
      "|2022-04-01|HPD067082|Truyền Hình|        83543|\n",
      "|2022-04-01|BGFD62840|Truyền Hình|        18892|\n",
      "|2022-04-01|NBFD14577|Truyền Hình|        18852|\n",
      "|2022-04-01|SGH799584|Truyền Hình|        25484|\n",
      "+----------+---------+-----------+-------------+\n",
      "only showing top 5 rows\n",
      "\n"
     ]
    }
   ],
   "source": [
    "data.groupBy(\"Date\",\"Contract\",\"Type\").agg((sum('TotalDuration').alias(\"TotalDuration\"))).show(5)"
   ]
  },
  {
   "cell_type": "code",
   "execution_count": 12,
   "metadata": {},
   "outputs": [
    {
     "name": "stdout",
     "output_type": "stream",
     "text": [
      "+----------+---------+--------+-----------+---------+--------+-----------+\n",
      "|      Date| Contract|Giải Trí|Phim Truyện|Thiếu Nhi|Thể Thao|Truyền Hình|\n",
      "+----------+---------+--------+-----------+---------+--------+-----------+\n",
      "|2022-04-01|NTFD29164|    NULL|       8344|     NULL|    NULL|       5772|\n",
      "|2022-04-01|HTFD18781|    NULL|       NULL|     NULL|    NULL|       5975|\n",
      "|2022-04-01|HPFD67165|    NULL|       NULL|     NULL|    NULL|      60623|\n",
      "|2022-04-01|TBFD31164|    NULL|       NULL|     NULL|    NULL|      17426|\n",
      "|2022-04-01|NDFD21780|    NULL|       NULL|     NULL|    NULL|       5666|\n",
      "+----------+---------+--------+-----------+---------+--------+-----------+\n",
      "only showing top 5 rows\n",
      "\n"
     ]
    }
   ],
   "source": [
    "data.groupBy('Date','Contract').pivot('Type').sum('TotalDuration').show(5)"
   ]
  },
  {
   "cell_type": "code",
   "execution_count": null,
   "metadata": {},
   "outputs": [],
   "source": []
  }
 ],
 "metadata": {
  "kernelspec": {
   "display_name": "Python 3",
   "language": "python",
   "name": "python3"
  },
  "language_info": {
   "codemirror_mode": {
    "name": "ipython",
    "version": 3
   },
   "file_extension": ".py",
   "mimetype": "text/x-python",
   "name": "python",
   "nbconvert_exporter": "python",
   "pygments_lexer": "ipython3",
   "version": "3.11.5"
  }
 },
 "nbformat": 4,
 "nbformat_minor": 2
}
