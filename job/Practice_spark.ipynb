{
  "nbformat": 4,
  "nbformat_minor": 0,
  "metadata": {
    "colab": {
      "provenance": [],
      "toc_visible": true
    },
    "kernelspec": {
      "name": "python3",
      "display_name": "Python 3"
    },
    "language_info": {
      "name": "python"
    }
  },
  "cells": [
    {
      "cell_type": "code",
      "execution_count": 2,
      "metadata": {
        "colab": {
          "base_uri": "https://localhost:8080/"
        },
        "id": "tXdupzop0BNK",
        "outputId": "f24a307c-6103-43ff-887d-e3e09516cf2d"
      },
      "outputs": [
        {
          "output_type": "stream",
          "name": "stdout",
          "text": [
            "/bin/bash: line 1: ipip: command not found\n"
          ]
        }
      ],
      "source": [
        "!ipip insstall spark"
      ]
    },
    {
      "cell_type": "code",
      "source": [
        "!pip install pyspark"
      ],
      "metadata": {
        "colab": {
          "base_uri": "https://localhost:8080/"
        },
        "id": "-3ifU4Sx0cWg",
        "outputId": "57457aaf-48a3-48eb-faf8-53aa14443940"
      },
      "execution_count": 4,
      "outputs": [
        {
          "output_type": "stream",
          "name": "stdout",
          "text": [
            "Collecting pyspark\n",
            "  Downloading pyspark-3.5.1.tar.gz (317.0 MB)\n",
            "\u001b[2K     \u001b[90m━━━━━━━━━━━━━━━━━━━━━━━━━━━━━━━━━━━━━━━━\u001b[0m \u001b[32m317.0/317.0 MB\u001b[0m \u001b[31m2.7 MB/s\u001b[0m eta \u001b[36m0:00:00\u001b[0m\n",
            "\u001b[?25h  Preparing metadata (setup.py) ... \u001b[?25l\u001b[?25hdone\n",
            "Requirement already satisfied: py4j==0.10.9.7 in /usr/local/lib/python3.10/dist-packages (from pyspark) (0.10.9.7)\n",
            "Building wheels for collected packages: pyspark\n",
            "  Building wheel for pyspark (setup.py) ... \u001b[?25l\u001b[?25hdone\n",
            "  Created wheel for pyspark: filename=pyspark-3.5.1-py2.py3-none-any.whl size=317488491 sha256=a2eb16307d2abea3ae6eb3d6fec7254f200af9d6e64880776a9849ea2f7322d0\n",
            "  Stored in directory: /root/.cache/pip/wheels/80/1d/60/2c256ed38dddce2fdd93be545214a63e02fbd8d74fb0b7f3a6\n",
            "Successfully built pyspark\n",
            "Installing collected packages: pyspark\n",
            "Successfully installed pyspark-3.5.1\n"
          ]
        }
      ]
    },
    {
      "cell_type": "code",
      "source": [
        "from pyspark.context import SparkContext\n",
        "from pyspark.sql.session import SparkSession\n",
        "from pyspark.sql.functions import *"
      ],
      "metadata": {
        "id": "v9X_IgfY0t7B"
      },
      "execution_count": 5,
      "outputs": []
    },
    {
      "cell_type": "code",
      "source": [
        "from google.colab import drive\n",
        "drive.mount('/content/drive')"
      ],
      "metadata": {
        "colab": {
          "base_uri": "https://localhost:8080/"
        },
        "id": "usjajSxa04If",
        "outputId": "3968bebc-84c9-4332-9ce8-caa00bfe930b"
      },
      "execution_count": 10,
      "outputs": [
        {
          "output_type": "stream",
          "name": "stdout",
          "text": [
            "Mounted at /content/drive\n"
          ]
        }
      ]
    },
    {
      "cell_type": "code",
      "source": [
        "spark = SparkSession.builder.config(\"spark.driver.memory\", \"8g\").getOrCreate()\n"
      ],
      "metadata": {
        "id": "A_T7WtlS1ACo"
      },
      "execution_count": 11,
      "outputs": []
    },
    {
      "cell_type": "code",
      "source": [
        "data = [['male', 1, None], ['female', 2, 4], ['male', 3, 2]]\n",
        "data_spark = spark.createDataFrame(data,['Gender','Stt', 'Id'])\n",
        "data_spark.show()"
      ],
      "metadata": {
        "colab": {
          "base_uri": "https://localhost:8080/"
        },
        "id": "uIAqvdZl1wcj",
        "outputId": "ac75c776-743d-4415-ee9a-b004cc95f416"
      },
      "execution_count": 12,
      "outputs": [
        {
          "output_type": "stream",
          "name": "stdout",
          "text": [
            "+------+---+----+\n",
            "|Gender|Stt|  Id|\n",
            "+------+---+----+\n",
            "|  male|  1|NULL|\n",
            "|female|  2|   4|\n",
            "|  male|  3|   2|\n",
            "+------+---+----+\n",
            "\n"
          ]
        }
      ]
    },
    {
      "cell_type": "code",
      "source": [
        "data_spark.select('Gender').show()"
      ],
      "metadata": {
        "colab": {
          "base_uri": "https://localhost:8080/"
        },
        "id": "FkJZkc7B1w_U",
        "outputId": "a052a137-d5ab-4997-d611-29fa96db63a5"
      },
      "execution_count": 14,
      "outputs": [
        {
          "output_type": "stream",
          "name": "stdout",
          "text": [
            "+------+\n",
            "|Gender|\n",
            "+------+\n",
            "|  male|\n",
            "|female|\n",
            "|  male|\n",
            "+------+\n",
            "\n"
          ]
        }
      ]
    },
    {
      "cell_type": "code",
      "source": [
        "data_spark.printSchema()"
      ],
      "metadata": {
        "colab": {
          "base_uri": "https://localhost:8080/"
        },
        "id": "3rH7ShlP5AAv",
        "outputId": "a67a14bf-53d7-4177-f4c2-64d4298a7eb5"
      },
      "execution_count": 23,
      "outputs": [
        {
          "output_type": "stream",
          "name": "stdout",
          "text": [
            "root\n",
            " |-- Gender: string (nullable = true)\n",
            " |-- Stt: long (nullable = true)\n",
            " |-- Id: long (nullable = true)\n",
            "\n"
          ]
        }
      ]
    },
    {
      "cell_type": "code",
      "source": [
        "data_spark.fill(NULL,['Id'])"
      ],
      "metadata": {
        "colab": {
          "base_uri": "https://localhost:8080/",
          "height": 274
        },
        "id": "g6vs1Vvv3mCU",
        "outputId": "4712839a-56a9-4464-8b53-8f079e2e8736"
      },
      "execution_count": 21,
      "outputs": [
        {
          "output_type": "error",
          "ename": "AttributeError",
          "evalue": "'DataFrame' object has no attribute 'fill'",
          "traceback": [
            "\u001b[0;31m---------------------------------------------------------------------------\u001b[0m",
            "\u001b[0;31mAttributeError\u001b[0m                            Traceback (most recent call last)",
            "\u001b[0;32m<ipython-input-21-f682de29552e>\u001b[0m in \u001b[0;36m<cell line: 1>\u001b[0;34m()\u001b[0m\n\u001b[0;32m----> 1\u001b[0;31m \u001b[0mdata_spark\u001b[0m\u001b[0;34m.\u001b[0m\u001b[0mfill\u001b[0m\u001b[0;34m(\u001b[0m\u001b[0mNULL\u001b[0m\u001b[0;34m,\u001b[0m\u001b[0;34m[\u001b[0m\u001b[0;34m'Id'\u001b[0m\u001b[0;34m]\u001b[0m\u001b[0;34m)\u001b[0m\u001b[0;34m\u001b[0m\u001b[0;34m\u001b[0m\u001b[0m\n\u001b[0m",
            "\u001b[0;32m/usr/local/lib/python3.10/dist-packages/pyspark/sql/dataframe.py\u001b[0m in \u001b[0;36m__getattr__\u001b[0;34m(self, name)\u001b[0m\n\u001b[1;32m   3125\u001b[0m         \"\"\"\n\u001b[1;32m   3126\u001b[0m         \u001b[0;32mif\u001b[0m \u001b[0mname\u001b[0m \u001b[0;32mnot\u001b[0m \u001b[0;32min\u001b[0m \u001b[0mself\u001b[0m\u001b[0;34m.\u001b[0m\u001b[0mcolumns\u001b[0m\u001b[0;34m:\u001b[0m\u001b[0;34m\u001b[0m\u001b[0;34m\u001b[0m\u001b[0m\n\u001b[0;32m-> 3127\u001b[0;31m             raise AttributeError(\n\u001b[0m\u001b[1;32m   3128\u001b[0m                 \u001b[0;34m\"'%s' object has no attribute '%s'\"\u001b[0m \u001b[0;34m%\u001b[0m \u001b[0;34m(\u001b[0m\u001b[0mself\u001b[0m\u001b[0;34m.\u001b[0m\u001b[0m__class__\u001b[0m\u001b[0;34m.\u001b[0m\u001b[0m__name__\u001b[0m\u001b[0;34m,\u001b[0m \u001b[0mname\u001b[0m\u001b[0;34m)\u001b[0m\u001b[0;34m\u001b[0m\u001b[0;34m\u001b[0m\u001b[0m\n\u001b[1;32m   3129\u001b[0m             )\n",
            "\u001b[0;31mAttributeError\u001b[0m: 'DataFrame' object has no attribute 'fill'"
          ]
        }
      ]
    },
    {
      "cell_type": "code",
      "source": [
        "data_spark.show()"
      ],
      "metadata": {
        "colab": {
          "base_uri": "https://localhost:8080/"
        },
        "id": "G3Qj1c8s31hT",
        "outputId": "53b5ea4a-7263-4074-880a-b0362db367d8"
      },
      "execution_count": 34,
      "outputs": [
        {
          "output_type": "stream",
          "name": "stdout",
          "text": [
            "+------+---+----+\n",
            "|Gender|Stt|  Id|\n",
            "+------+---+----+\n",
            "|  male|  1|NULL|\n",
            "|female|  2|   4|\n",
            "|  male|  3|   2|\n",
            "+------+---+----+\n",
            "\n"
          ]
        }
      ]
    },
    {
      "cell_type": "code",
      "source": [
        "mapping = {\n",
        "    'Gender': '4',\n",
        "    'Stt': '3'\n",
        "}\n",
        "data_spark.columns"
      ],
      "metadata": {
        "colab": {
          "base_uri": "https://localhost:8080/"
        },
        "id": "-giNaxVd342T",
        "outputId": "31bd61b5-8f90-480e-c203-5f0547b1f73e"
      },
      "execution_count": 38,
      "outputs": [
        {
          "output_type": "execute_result",
          "data": {
            "text/plain": [
              "['Gender', 'Stt', 'Id']"
            ]
          },
          "metadata": {},
          "execution_count": 38
        }
      ]
    },
    {
      "cell_type": "code",
      "source": [
        "new_names = [mapping.get(col,col) for col in data_spark.columns]\n",
        "new_names"
      ],
      "metadata": {
        "colab": {
          "base_uri": "https://localhost:8080/"
        },
        "id": "n1BcjD5D578F",
        "outputId": "f1616081-ec4b-4e80-be4b-d50892a8debb"
      },
      "execution_count": 39,
      "outputs": [
        {
          "output_type": "execute_result",
          "data": {
            "text/plain": [
              "['4', '3', 'Id']"
            ]
          },
          "metadata": {},
          "execution_count": 39
        }
      ]
    },
    {
      "cell_type": "code",
      "source": [
        "data_spark.toDF(*new_names).show(4)"
      ],
      "metadata": {
        "colab": {
          "base_uri": "https://localhost:8080/"
        },
        "id": "yo-o3F1R6Zaj",
        "outputId": "a21245d9-9159-4694-9ded-42107b90c394"
      },
      "execution_count": 40,
      "outputs": [
        {
          "output_type": "stream",
          "name": "stdout",
          "text": [
            "+------+---+----+\n",
            "|     4|  3|  Id|\n",
            "+------+---+----+\n",
            "|  male|  1|NULL|\n",
            "|female|  2|   4|\n",
            "|  male|  3|   2|\n",
            "+------+---+----+\n",
            "\n"
          ]
        }
      ]
    },
    {
      "cell_type": "code",
      "source": [
        "data_spark.withColumnRenamed('Newspaper','Paper').show(4)"
      ],
      "metadata": {
        "colab": {
          "base_uri": "https://localhost:8080/"
        },
        "id": "okyZhqPM6nOS",
        "outputId": "a715bdc3-c6d0-453c-d162-15b0a657f8b8"
      },
      "execution_count": 41,
      "outputs": [
        {
          "output_type": "stream",
          "name": "stdout",
          "text": [
            "+------+---+----+\n",
            "|Gender|Stt|  Id|\n",
            "+------+---+----+\n",
            "|  male|  1|NULL|\n",
            "|female|  2|   4|\n",
            "|  male|  3|   2|\n",
            "+------+---+----+\n",
            "\n"
          ]
        }
      ]
    },
    {
      "cell_type": "code",
      "source": [
        "#add column\n",
        "data_spark = data_spark.withColumn('Sum', col('Stt') + col('Id'))\n"
      ],
      "metadata": {
        "id": "82pCO_a66zd5"
      },
      "execution_count": 42,
      "outputs": []
    },
    {
      "cell_type": "code",
      "source": [
        "data_spark.show()"
      ],
      "metadata": {
        "colab": {
          "base_uri": "https://localhost:8080/"
        },
        "id": "1_RTPB569EhJ",
        "outputId": "815be96e-c439-4335-d4ec-16d3e8328d10"
      },
      "execution_count": 43,
      "outputs": [
        {
          "output_type": "stream",
          "name": "stdout",
          "text": [
            "+------+---+----+----+\n",
            "|Gender|Stt|  Id| Sum|\n",
            "+------+---+----+----+\n",
            "|  male|  1|NULL|NULL|\n",
            "|female|  2|   4|   6|\n",
            "|  male|  3|   2|   5|\n",
            "+------+---+----+----+\n",
            "\n"
          ]
        }
      ]
    },
    {
      "cell_type": "code",
      "source": [
        "data_spark = data_spark.withColumn('Description', col('Stt') + 'okkk') \\\n",
        "                       .withColumn('GenDescription', col('Gender') + 'okkk') \\\n",
        "                       .withColumn('Test1', monotonically_increasing_id()) \\\n",
        "                       .withColumn('Test2', monotonically_increasing_id())\n",
        "\n",
        "data_spark.show()\n"
      ],
      "metadata": {
        "colab": {
          "base_uri": "https://localhost:8080/"
        },
        "id": "peG1K8py9F8B",
        "outputId": "86848f3d-f308-4fa5-9e44-b1da4be5d79b"
      },
      "execution_count": 44,
      "outputs": [
        {
          "output_type": "stream",
          "name": "stdout",
          "text": [
            "+------+---+----+----+-----------+--------------+----------+----------+\n",
            "|Gender|Stt|  Id| Sum|Description|GenDescription|     Test1|     Test2|\n",
            "+------+---+----+----+-----------+--------------+----------+----------+\n",
            "|  male|  1|NULL|NULL|       NULL|          NULL|         0|         0|\n",
            "|female|  2|   4|   6|       NULL|          NULL|8589934592|8589934592|\n",
            "|  male|  3|   2|   5|       NULL|          NULL|8589934593|8589934593|\n",
            "+------+---+----+----+-----------+--------------+----------+----------+\n",
            "\n"
          ]
        }
      ]
    },
    {
      "cell_type": "code",
      "source": [
        "#drop column\n",
        "data_spark = data_spark.drop('Test2')\n",
        "data_spark.show()"
      ],
      "metadata": {
        "colab": {
          "base_uri": "https://localhost:8080/"
        },
        "id": "LLVgUk-q9yj0",
        "outputId": "f930faf6-a230-438c-d078-2372ac36c9c2"
      },
      "execution_count": 45,
      "outputs": [
        {
          "output_type": "stream",
          "name": "stdout",
          "text": [
            "+------+---+----+----+-----------+--------------+----------+\n",
            "|Gender|Stt|  Id| Sum|Description|GenDescription|     Test1|\n",
            "+------+---+----+----+-----------+--------------+----------+\n",
            "|  male|  1|NULL|NULL|       NULL|          NULL|         0|\n",
            "|female|  2|   4|   6|       NULL|          NULL|8589934592|\n",
            "|  male|  3|   2|   5|       NULL|          NULL|8589934593|\n",
            "+------+---+----+----+-----------+--------------+----------+\n",
            "\n"
          ]
        }
      ]
    },
    {
      "cell_type": "markdown",
      "source": [
        "### Working with csv file"
      ],
      "metadata": {
        "id": "v6UUS1aP-YMl"
      }
    },
    {
      "cell_type": "code",
      "source": [
        "csv_file_path = '/content/drive/My Drive/Data/Advertising.csv'\n",
        "ds = spark.read.csv(csv_file_path, header=True)\n",
        "ds.show(10)"
      ],
      "metadata": {
        "colab": {
          "base_uri": "https://localhost:8080/"
        },
        "id": "lp0BfmvJ-LPd",
        "outputId": "e595eabe-0478-495e-c361-e195bb282d27"
      },
      "execution_count": 47,
      "outputs": [
        {
          "output_type": "stream",
          "name": "stdout",
          "text": [
            "+-----+-----+---------+-----+\n",
            "|   TV|Radio|Newspaper|Sales|\n",
            "+-----+-----+---------+-----+\n",
            "|230.1| 37.8|     69.2| 22.1|\n",
            "| 44.5| 39.3|     45.1| 10.4|\n",
            "| 17.2| 45.9|     69.3|  9.3|\n",
            "|151.5| 41.3|     58.5| 18.5|\n",
            "|180.8| 10.8|     58.4| 12.9|\n",
            "|  8.7| 48.9|       75|  7.2|\n",
            "| 57.5| 32.8|     23.5| 11.8|\n",
            "|120.2| 19.6|     11.6| 13.2|\n",
            "|  8.6|  2.1|        1|  4.8|\n",
            "|199.8|  2.6|     21.2| 10.6|\n",
            "+-----+-----+---------+-----+\n",
            "only showing top 10 rows\n",
            "\n"
          ]
        }
      ]
    },
    {
      "cell_type": "code",
      "source": [
        "#filter\n",
        "ds[ds.Newspaper<20].show()"
      ],
      "metadata": {
        "colab": {
          "base_uri": "https://localhost:8080/"
        },
        "id": "5Y3qYnrs-VZi",
        "outputId": "6ff4df14-c7fd-43fe-a6f5-9773c89dbe63"
      },
      "execution_count": 48,
      "outputs": [
        {
          "output_type": "stream",
          "name": "stdout",
          "text": [
            "+-----+-----+---------+-----+\n",
            "|   TV|Radio|Newspaper|Sales|\n",
            "+-----+-----+---------+-----+\n",
            "|120.2| 19.6|     11.6| 13.2|\n",
            "|  8.6|  2.1|        1|  4.8|\n",
            "|214.7|   24|        4| 17.4|\n",
            "| 97.5|  7.6|      7.2|  9.7|\n",
            "| 69.2| 20.5|     18.3| 11.3|\n",
            "|147.3| 23.9|     19.1| 14.6|\n",
            "| 62.3| 12.6|     18.3|  9.7|\n",
            "|262.9|  3.5|     19.5|   12|\n",
            "|142.9| 29.3|     12.6|   15|\n",
            "|265.6|   20|      0.3| 17.4|\n",
            "| 95.7|  1.4|      7.4|  9.5|\n",
            "|290.7|  4.1|      8.5| 12.8|\n",
            "|266.9| 43.8|        5| 25.4|\n",
            "|293.6| 27.7|      1.8| 20.7|\n",
            "|239.9| 41.5|     18.5| 23.2|\n",
            "|100.4|  9.6|      3.6| 10.7|\n",
            "|262.7| 28.8|     15.9| 20.2|\n",
            "|136.2| 19.2|     16.6| 13.2|\n",
            "|210.7| 29.5|      9.3| 18.4|\n",
            "|102.7| 29.6|      8.4|   14|\n",
            "+-----+-----+---------+-----+\n",
            "only showing top 20 rows\n",
            "\n"
          ]
        }
      ]
    },
    {
      "cell_type": "code",
      "source": [
        "ds.count()"
      ],
      "metadata": {
        "colab": {
          "base_uri": "https://localhost:8080/"
        },
        "id": "Nuta-4VD_MKK",
        "outputId": "b0423777-c3b8-44db-eb8e-177c64ecc4dd"
      },
      "execution_count": 49,
      "outputs": [
        {
          "output_type": "execute_result",
          "data": {
            "text/plain": [
              "200"
            ]
          },
          "metadata": {},
          "execution_count": 49
        }
      ]
    },
    {
      "cell_type": "code",
      "source": [
        "ds[(ds.Newspaper > 20) & (ds.TV>100)].show()"
      ],
      "metadata": {
        "colab": {
          "base_uri": "https://localhost:8080/"
        },
        "id": "P3u_9O8C_Olc",
        "outputId": "cc85735f-5831-4da3-f9e8-d7fdc377233b"
      },
      "execution_count": 50,
      "outputs": [
        {
          "output_type": "stream",
          "name": "stdout",
          "text": [
            "+-----+-----+---------+-----+\n",
            "|   TV|Radio|Newspaper|Sales|\n",
            "+-----+-----+---------+-----+\n",
            "|230.1| 37.8|     69.2| 22.1|\n",
            "|151.5| 41.3|     58.5| 18.5|\n",
            "|180.8| 10.8|     58.4| 12.9|\n",
            "|199.8|  2.6|     21.2| 10.6|\n",
            "|204.1| 32.9|       46|   19|\n",
            "|195.4| 47.7|     52.9| 22.4|\n",
            "|281.4| 39.6|     55.8| 24.4|\n",
            "|218.4| 27.7|     53.4|   18|\n",
            "|237.4|  5.1|     23.5| 12.5|\n",
            "|228.3| 16.9|     26.2| 15.5|\n",
            "|240.1| 16.7|     22.9| 15.9|\n",
            "|248.8| 27.1|     22.9| 18.9|\n",
            "|292.9| 28.3|     43.2| 21.4|\n",
            "|112.9| 17.4|     38.6| 11.9|\n",
            "|  228| 37.7|       32| 21.5|\n",
            "|202.5| 22.3|     31.6| 16.6|\n",
            "|  177| 33.4|     38.7| 17.1|\n",
            "|206.9|  8.4|     26.4| 12.9|\n",
            "|175.1| 22.5|     31.5| 14.9|\n",
            "|227.2| 15.8|     49.9| 14.8|\n",
            "+-----+-----+---------+-----+\n",
            "only showing top 20 rows\n",
            "\n"
          ]
        }
      ]
    },
    {
      "cell_type": "code",
      "source": [
        "import pyspark.sql.functions as F"
      ],
      "metadata": {
        "id": "y9FjZ5CGAUcc"
      },
      "execution_count": 51,
      "outputs": []
    },
    {
      "cell_type": "code",
      "source": [
        "# Add new column\n",
        "ds = ds.withColumn('cond',\n",
        "                   F.when((ds.TV > 100) & (ds.Radio < 40), 1)\n",
        "                    .when(ds.Sales > 10, 2)\n",
        "                    .otherwise(3))\n",
        "ds.show()"
      ],
      "metadata": {
        "colab": {
          "base_uri": "https://localhost:8080/"
        },
        "id": "mvzsB30F_iDv",
        "outputId": "3cab92d7-9309-4612-b0c4-c9eaf3603c4c"
      },
      "execution_count": 55,
      "outputs": [
        {
          "output_type": "stream",
          "name": "stdout",
          "text": [
            "+-----+-----+---------+-----+----+\n",
            "|   TV|Radio|Newspaper|Sales|cond|\n",
            "+-----+-----+---------+-----+----+\n",
            "|230.1| 37.8|     69.2| 22.1|   1|\n",
            "| 44.5| 39.3|     45.1| 10.4|   3|\n",
            "| 17.2| 45.9|     69.3|  9.3|   3|\n",
            "|151.5| 41.3|     58.5| 18.5|   2|\n",
            "|180.8| 10.8|     58.4| 12.9|   1|\n",
            "|  8.7| 48.9|       75|  7.2|   3|\n",
            "| 57.5| 32.8|     23.5| 11.8|   2|\n",
            "|120.2| 19.6|     11.6| 13.2|   1|\n",
            "|  8.6|  2.1|        1|  4.8|   3|\n",
            "|199.8|  2.6|     21.2| 10.6|   1|\n",
            "| 66.1|  5.8|     24.2|  8.6|   3|\n",
            "|214.7|   24|        4| 17.4|   1|\n",
            "| 23.8| 35.1|     65.9|  9.2|   3|\n",
            "| 97.5|  7.6|      7.2|  9.7|   3|\n",
            "|204.1| 32.9|       46|   19|   1|\n",
            "|195.4| 47.7|     52.9| 22.4|   2|\n",
            "| 67.8| 36.6|      114| 12.5|   2|\n",
            "|281.4| 39.6|     55.8| 24.4|   1|\n",
            "| 69.2| 20.5|     18.3| 11.3|   2|\n",
            "|147.3| 23.9|     19.1| 14.6|   1|\n",
            "+-----+-----+---------+-----+----+\n",
            "only showing top 20 rows\n",
            "\n"
          ]
        }
      ]
    },
    {
      "cell_type": "code",
      "source": [
        "ds = ds.withColumn('log_tv',F.log(ds.TV))\n",
        "ds = ds.withColumn('tv+10', ds.TV+10)\n",
        "ds.show()"
      ],
      "metadata": {
        "colab": {
          "base_uri": "https://localhost:8080/"
        },
        "id": "2JCfefo_AaD_",
        "outputId": "ab9ba30c-a01f-4cef-d4c0-41fbda86cbb0"
      },
      "execution_count": 57,
      "outputs": [
        {
          "output_type": "stream",
          "name": "stdout",
          "text": [
            "+-----+-----+---------+-----+----+------------------+-----+\n",
            "|   TV|Radio|Newspaper|Sales|cond|            log_tv|tv+10|\n",
            "+-----+-----+---------+-----+----+------------------+-----+\n",
            "|230.1| 37.8|     69.2| 22.1|   1|  5.43851399704132|240.1|\n",
            "| 44.5| 39.3|     45.1| 10.4|   3|3.7954891891721947| 54.5|\n",
            "| 17.2| 45.9|     69.3|  9.3|   3|2.8449093838194073| 27.2|\n",
            "|151.5| 41.3|     58.5| 18.5|   2| 5.020585624949424|161.5|\n",
            "|180.8| 10.8|     58.4| 12.9|   1|5.1973914479580765|190.8|\n",
            "|  8.7| 48.9|       75|  7.2|   3| 2.163323025660538| 18.7|\n",
            "| 57.5| 32.8|     23.5| 11.8|   2| 4.051784947803305| 67.5|\n",
            "|120.2| 19.6|     11.6| 13.2|   1| 4.789157022101107|130.2|\n",
            "|  8.6|  2.1|        1|  4.8|   3| 2.151762203259462| 18.6|\n",
            "|199.8|  2.6|     21.2| 10.6|   1| 5.297316866214453|209.8|\n",
            "| 66.1|  5.8|     24.2|  8.6|   3| 4.191168746857641| 76.1|\n",
            "|214.7|   24|        4| 17.4|   1| 5.369241704884735|224.7|\n",
            "| 23.8| 35.1|     65.9|  9.2|   3| 3.169685580677429| 33.8|\n",
            "| 97.5|  7.6|      7.2|  9.7|   3| 4.579852378003801|107.5|\n",
            "|204.1| 32.9|       46|   19|   1| 5.318610069815799|214.1|\n",
            "|195.4| 47.7|     52.9| 22.4|   2| 5.275048739608683|205.4|\n",
            "| 67.8| 36.6|      114| 12.5|   2| 4.216562194946349| 77.8|\n",
            "|281.4| 39.6|     55.8| 24.4|   1| 5.639777144680289|291.4|\n",
            "| 69.2| 20.5|     18.3| 11.3|   2| 4.237000862623624| 79.2|\n",
            "|147.3| 23.9|     19.1| 14.6|   1|4.9924713234685845|157.3|\n",
            "+-----+-----+---------+-----+----+------------------+-----+\n",
            "only showing top 20 rows\n",
            "\n"
          ]
        }
      ]
    },
    {
      "cell_type": "markdown",
      "source": [
        "### JOIN tromg spark"
      ],
      "metadata": {
        "id": "vW_B46-DCyVC"
      }
    },
    {
      "cell_type": "code",
      "source": [
        "import pandas as pd\n",
        "leftp = pd.DataFrame({'A': ['A0', 'A1', 'A2', 'A3'],\n",
        "                      'B': ['B0', 'B1', 'B2', 'B3'],\n",
        "                      'C': ['C0', 'C1', 'C2', 'C3'],\n",
        "                      'D': ['D0', 'D1', 'D2', 'D3']},\n",
        "                     index=[0, 1, 2, 3])\n",
        "\n",
        "rightp = pd.DataFrame({'A': ['A0', 'A1', 'A6', 'A7'],\n",
        "                       'F': ['B4', 'B5', 'B6', 'B7'],\n",
        "                       'G': ['C4', 'C5', 'C6', 'C7'],\n",
        "                       'H': ['D4', 'D5', 'D6', 'D7']},\n",
        "                      index=[4, 5, 6, 7])\n"
      ],
      "metadata": {
        "id": "OW-G5XZsCZAU"
      },
      "execution_count": 59,
      "outputs": []
    },
    {
      "cell_type": "code",
      "source": [
        "print(leftp)\n",
        "print(rightp)\n",
        "\n"
      ],
      "metadata": {
        "colab": {
          "base_uri": "https://localhost:8080/"
        },
        "id": "-aQFJVVODM_9",
        "outputId": "35ad942a-88c4-4f08-c4ce-771c57f376fe"
      },
      "execution_count": 64,
      "outputs": [
        {
          "output_type": "stream",
          "name": "stdout",
          "text": [
            "    A   B   C   D\n",
            "0  A0  B0  C0  D0\n",
            "1  A1  B1  C1  D1\n",
            "2  A2  B2  C2  D2\n",
            "3  A3  B3  C3  D3\n",
            "    A   F   G   H\n",
            "4  A0  B4  C4  D4\n",
            "5  A1  B5  C5  D5\n",
            "6  A6  B6  C6  D6\n",
            "7  A7  B7  C7  D7\n"
          ]
        }
      ]
    },
    {
      "cell_type": "code",
      "source": [
        "## Convert to data frame in spark\n",
        "\n",
        "lefts = spark.createDataFrame(leftp)\n",
        "rights = spark.createDataFrame(rightp)\n"
      ],
      "metadata": {
        "id": "xTaOGHQJDU2_"
      },
      "execution_count": 65,
      "outputs": []
    },
    {
      "cell_type": "code",
      "source": [
        "lefts.printSchema()"
      ],
      "metadata": {
        "colab": {
          "base_uri": "https://localhost:8080/"
        },
        "id": "xSZvCiRgDt08",
        "outputId": "ae2bffc8-04b3-4348-95c7-a35148236de0"
      },
      "execution_count": 67,
      "outputs": [
        {
          "output_type": "stream",
          "name": "stdout",
          "text": [
            "root\n",
            " |-- A: string (nullable = true)\n",
            " |-- B: string (nullable = true)\n",
            " |-- C: string (nullable = true)\n",
            " |-- D: string (nullable = true)\n",
            "\n"
          ]
        }
      ]
    },
    {
      "cell_type": "code",
      "source": [
        "lefts.join(rights,on='A',how='left') .orderBy('A',ascending=True).show()"
      ],
      "metadata": {
        "colab": {
          "base_uri": "https://localhost:8080/"
        },
        "id": "rY_uLry5DveZ",
        "outputId": "4db80d4a-811b-4a80-bd4f-b617580d417c"
      },
      "execution_count": 68,
      "outputs": [
        {
          "output_type": "stream",
          "name": "stdout",
          "text": [
            "+---+---+---+---+----+----+----+\n",
            "|  A|  B|  C|  D|   F|   G|   H|\n",
            "+---+---+---+---+----+----+----+\n",
            "| A0| B0| C0| D0|  B4|  C4|  D4|\n",
            "| A1| B1| C1| D1|  B5|  C5|  D5|\n",
            "| A2| B2| C2| D2|NULL|NULL|NULL|\n",
            "| A3| B3| C3| D3|NULL|NULL|NULL|\n",
            "+---+---+---+---+----+----+----+\n",
            "\n"
          ]
        }
      ]
    },
    {
      "cell_type": "code",
      "source": [
        "lefts.join(rights,on='A',how='right') .orderBy('A',ascending=True).show()"
      ],
      "metadata": {
        "colab": {
          "base_uri": "https://localhost:8080/"
        },
        "id": "hTtae8QeGORZ",
        "outputId": "281e2d69-9bf2-4de3-f559-d8cc6279ef40"
      },
      "execution_count": 69,
      "outputs": [
        {
          "output_type": "stream",
          "name": "stdout",
          "text": [
            "+---+----+----+----+---+---+---+\n",
            "|  A|   B|   C|   D|  F|  G|  H|\n",
            "+---+----+----+----+---+---+---+\n",
            "| A0|  B0|  C0|  D0| B4| C4| D4|\n",
            "| A1|  B1|  C1|  D1| B5| C5| D5|\n",
            "| A6|NULL|NULL|NULL| B6| C6| D6|\n",
            "| A7|NULL|NULL|NULL| B7| C7| D7|\n",
            "+---+----+----+----+---+---+---+\n",
            "\n"
          ]
        }
      ]
    },
    {
      "cell_type": "code",
      "source": [
        "lefts.join(rights,on='A',how='inner') .orderBy('A',ascending=True).show()\n"
      ],
      "metadata": {
        "colab": {
          "base_uri": "https://localhost:8080/"
        },
        "id": "Gi-hPGhcGb4P",
        "outputId": "8a3685f7-bf76-4d18-a86a-e263ff3bd728"
      },
      "execution_count": 70,
      "outputs": [
        {
          "output_type": "stream",
          "name": "stdout",
          "text": [
            "+---+---+---+---+---+---+---+\n",
            "|  A|  B|  C|  D|  F|  G|  H|\n",
            "+---+---+---+---+---+---+---+\n",
            "| A0| B0| C0| D0| B4| C4| D4|\n",
            "| A1| B1| C1| D1| B5| C5| D5|\n",
            "+---+---+---+---+---+---+---+\n",
            "\n"
          ]
        }
      ]
    },
    {
      "cell_type": "code",
      "source": [
        "lefts.join(rights,on='A',how='full') .orderBy('A',ascending=True).show()\n"
      ],
      "metadata": {
        "colab": {
          "base_uri": "https://localhost:8080/"
        },
        "id": "rAcwx2DjGqMq",
        "outputId": "093c6697-1bf3-4153-b078-174d8117ed1a"
      },
      "execution_count": 71,
      "outputs": [
        {
          "output_type": "stream",
          "name": "stdout",
          "text": [
            "+---+----+----+----+----+----+----+\n",
            "|  A|   B|   C|   D|   F|   G|   H|\n",
            "+---+----+----+----+----+----+----+\n",
            "| A0|  B0|  C0|  D0|  B4|  C4|  D4|\n",
            "| A1|  B1|  C1|  D1|  B5|  C5|  D5|\n",
            "| A2|  B2|  C2|  D2|NULL|NULL|NULL|\n",
            "| A3|  B3|  C3|  D3|NULL|NULL|NULL|\n",
            "| A6|NULL|NULL|NULL|  B6|  C6|  D6|\n",
            "| A7|NULL|NULL|NULL|  B7|  C7|  D7|\n",
            "+---+----+----+----+----+----+----+\n",
            "\n"
          ]
        }
      ]
    },
    {
      "cell_type": "code",
      "source": [
        "my_list = [('a', 2, 3), ('b', 5, 6), ('c', 8, 9), ('a', 2, 3), ('b', 5, 6), ('c', 8, 9)]\n",
        "col_name = ['col1', 'col2', 'col3']\n",
        "ds2 = spark.createDataFrame(my_list,schema=col_name)"
      ],
      "metadata": {
        "id": "UNf2tjR1G0QT"
      },
      "execution_count": 72,
      "outputs": []
    },
    {
      "cell_type": "code",
      "source": [
        "ds2.show()"
      ],
      "metadata": {
        "colab": {
          "base_uri": "https://localhost:8080/"
        },
        "id": "u_X54urbG5AI",
        "outputId": "df7ffbba-7bf8-49e5-bd4b-0b5a6b4c0487"
      },
      "execution_count": 73,
      "outputs": [
        {
          "output_type": "stream",
          "name": "stdout",
          "text": [
            "+----+----+----+\n",
            "|col1|col2|col3|\n",
            "+----+----+----+\n",
            "|   a|   2|   3|\n",
            "|   b|   5|   6|\n",
            "|   c|   8|   9|\n",
            "|   a|   2|   3|\n",
            "|   b|   5|   6|\n",
            "|   c|   8|   9|\n",
            "+----+----+----+\n",
            "\n"
          ]
        }
      ]
    },
    {
      "cell_type": "code",
      "source": [
        "## Concat\n",
        "ds2= ds2.withColumn('concat',F.concat('col1','col2'))\n",
        "ds2.show()"
      ],
      "metadata": {
        "colab": {
          "base_uri": "https://localhost:8080/"
        },
        "id": "shl1wBQxG7xh",
        "outputId": "fa230619-d1d2-4fb7-dabe-c610fdb77bb4"
      },
      "execution_count": 74,
      "outputs": [
        {
          "output_type": "stream",
          "name": "stdout",
          "text": [
            "+----+----+----+------+\n",
            "|col1|col2|col3|concat|\n",
            "+----+----+----+------+\n",
            "|   a|   2|   3|    a2|\n",
            "|   b|   5|   6|    b5|\n",
            "|   c|   8|   9|    c8|\n",
            "|   a|   2|   3|    a2|\n",
            "|   b|   5|   6|    b5|\n",
            "|   c|   8|   9|    c8|\n",
            "+----+----+----+------+\n",
            "\n"
          ]
        }
      ]
    },
    {
      "cell_type": "code",
      "source": [
        "## Group by\n",
        "ds2.groupBy(['col1']).agg({'col2':'min', 'col3':'avg'}).show()"
      ],
      "metadata": {
        "colab": {
          "base_uri": "https://localhost:8080/"
        },
        "id": "St01Dy3mG9py",
        "outputId": "cfca6aba-e7ad-451f-bc3a-aeb1bfbe83ae"
      },
      "execution_count": 75,
      "outputs": [
        {
          "output_type": "stream",
          "name": "stdout",
          "text": [
            "+----+---------+---------+\n",
            "|col1|min(col2)|avg(col3)|\n",
            "+----+---------+---------+\n",
            "|   c|        8|      9.0|\n",
            "|   b|        5|      6.0|\n",
            "|   a|        2|      3.0|\n",
            "+----+---------+---------+\n",
            "\n"
          ]
        }
      ]
    },
    {
      "cell_type": "code",
      "source": [
        "## Order by\n",
        "ds2.orderBy('col1',ascending = True).show()"
      ],
      "metadata": {
        "colab": {
          "base_uri": "https://localhost:8080/"
        },
        "id": "BfXhq6irHXtd",
        "outputId": "9c280cae-17f7-4031-a677-0f344b682b31"
      },
      "execution_count": 77,
      "outputs": [
        {
          "output_type": "stream",
          "name": "stdout",
          "text": [
            "+----+----+----+------+\n",
            "|col1|col2|col3|concat|\n",
            "+----+----+----+------+\n",
            "|   a|   2|   3|    a2|\n",
            "|   a|   2|   3|    a2|\n",
            "|   b|   5|   6|    b5|\n",
            "|   b|   5|   6|    b5|\n",
            "|   c|   8|   9|    c8|\n",
            "|   c|   8|   9|    c8|\n",
            "+----+----+----+------+\n",
            "\n"
          ]
        }
      ]
    },
    {
      "cell_type": "code",
      "source": [
        "ds2.groupBy(['col1']).pivot('col2').sum('col3').show()"
      ],
      "metadata": {
        "colab": {
          "base_uri": "https://localhost:8080/"
        },
        "id": "ffkG5ChIHgaa",
        "outputId": "f7531283-0295-47c9-ef0c-c71fc2ba43a7"
      },
      "execution_count": 78,
      "outputs": [
        {
          "output_type": "stream",
          "name": "stdout",
          "text": [
            "+----+----+----+----+\n",
            "|col1|   2|   5|   8|\n",
            "+----+----+----+----+\n",
            "|   c|NULL|NULL|  18|\n",
            "|   b|NULL|  12|NULL|\n",
            "|   a|   6|NULL|NULL|\n",
            "+----+----+----+----+\n",
            "\n"
          ]
        }
      ]
    },
    {
      "cell_type": "code",
      "source": [],
      "metadata": {
        "id": "D65yT0G4HnY1"
      },
      "execution_count": null,
      "outputs": []
    }
  ]
}